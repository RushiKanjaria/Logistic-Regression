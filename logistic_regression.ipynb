{
  "nbformat": 4,
  "nbformat_minor": 0,
  "metadata": {
    "colab": {
      "name": "logistic_regression.ipynb",
      "provenance": [],
      "collapsed_sections": [],
      "machine_shape": "hm",
      "include_colab_link": true
    },
    "kernelspec": {
      "display_name": "Python 3",
      "language": "python",
      "name": "python3"
    },
    "language_info": {
      "codemirror_mode": {
        "name": "ipython",
        "version": 3
      },
      "file_extension": ".py",
      "mimetype": "text/x-python",
      "name": "python",
      "nbconvert_exporter": "python",
      "pygments_lexer": "ipython3",
      "version": "3.8.8"
    }
  },
  "cells": [
    {
      "cell_type": "markdown",
      "metadata": {
        "id": "view-in-github",
        "colab_type": "text"
      },
      "source": [
        "<a href=\"https://colab.research.google.com/github/RushiKanjaria/Logistic-Regression/blob/main/logistic_regression.ipynb\" target=\"_parent\"><img src=\"https://colab.research.google.com/assets/colab-badge.svg\" alt=\"Open In Colab\"/></a>"
      ]
    },
    {
      "cell_type": "markdown",
      "metadata": {
        "id": "0MRC0e0KhQ0S"
      },
      "source": [
        "# Logistic Regression"
      ]
    },
    {
      "cell_type": "markdown",
      "metadata": {
        "id": "LWd1UlMnhT2s"
      },
      "source": [
        "## Importing the libraries"
      ]
    },
    {
      "cell_type": "code",
      "metadata": {
        "id": "gfB6dRWB7Ho6"
      },
      "source": [
        "import numpy as np\n",
        "import pandas as pd\n",
        "import matplotlib.pyplot as plt"
      ],
      "execution_count": null,
      "outputs": []
    },
    {
      "cell_type": "markdown",
      "metadata": {
        "id": "K1VMqkGvhc3-"
      },
      "source": [
        "## Importing the dataset"
      ]
    },
    {
      "cell_type": "code",
      "metadata": {
        "id": "ZBeNaCyd7Ho7"
      },
      "source": [
        "df = pd.read_csv(r\"ENTER_THE_NAME_OF_YOUR_DATASET_HERE.csv\")\n",
        "X = df.iloc[:,2:-1].values\n",
        "y = df.iloc[:,-1].values"
      ],
      "execution_count": null,
      "outputs": []
    },
    {
      "cell_type": "code",
      "metadata": {
        "id": "h3jJJHrp7Ho7"
      },
      "source": [
        "colors = {0:'red',1:'green'}"
      ],
      "execution_count": null,
      "outputs": []
    },
    {
      "cell_type": "code",
      "metadata": {
        "id": "MMrTr21a7Ho7"
      },
      "source": [
        "plt.scatter(X[:,0],X[:,1], c = df['Purchased'].map(colors))\n",
        "plt.title('Social Network Ads')\n",
        "plt.xlabel('Age')\n",
        "plt.ylabel('Estimated Salary')\n",
        "plt.show()"
      ],
      "execution_count": null,
      "outputs": []
    },
    {
      "cell_type": "markdown",
      "metadata": {
        "id": "YvxIPVyMhmKp"
      },
      "source": [
        "## Splitting the dataset into the Training set and Test set"
      ]
    },
    {
      "cell_type": "code",
      "metadata": {
        "id": "W43mTwB17Ho8"
      },
      "source": [
        "from sklearn.model_selection import train_test_split\n",
        "\n",
        "X_train, X_test, y_train, y_test = train_test_split(X, y, test_size = 0.25, random_state = 0)"
      ],
      "execution_count": null,
      "outputs": []
    },
    {
      "cell_type": "code",
      "metadata": {
        "id": "1I6HhbOI7Ho8"
      },
      "source": [
        "print(\"X Train:\\n\\n\",X_train)\n",
        "print(\"\\n\\nX Test:\\n\\n\",X_test)\n",
        "print(\"\\n\\ny Train:\\n\\n\",y_train)\n",
        "print(\"\\n\\ny Test:\\n\\n\",y_test)"
      ],
      "execution_count": null,
      "outputs": []
    },
    {
      "cell_type": "markdown",
      "metadata": {
        "id": "kW3c7UYih0hT"
      },
      "source": [
        "## Feature Scaling"
      ]
    },
    {
      "cell_type": "code",
      "metadata": {
        "id": "1M7yt8ka7Ho9"
      },
      "source": [
        "from sklearn.preprocessing import StandardScaler\n",
        "\n",
        "sc = StandardScaler()\n",
        "X_train = sc.fit_transform(X_train)\n",
        "X_test = sc.transform(X_test)"
      ],
      "execution_count": null,
      "outputs": []
    },
    {
      "cell_type": "code",
      "metadata": {
        "scrolled": true,
        "id": "8Mx_q3hQ7Ho9"
      },
      "source": [
        "print(\"Scaled X Train:\\n\\n\",X_train)\n",
        "print(\"\\n\\nScaled X Test:\\n\\n\",X_test)"
      ],
      "execution_count": null,
      "outputs": []
    },
    {
      "cell_type": "markdown",
      "metadata": {
        "id": "bb6jCOCQiAmP"
      },
      "source": [
        "## Training the Logistic Regression model on the Training set"
      ]
    },
    {
      "cell_type": "code",
      "metadata": {
        "id": "2q30Dbkg7Ho-"
      },
      "source": [
        "from sklearn.linear_model import LogisticRegression\n",
        "\n",
        "lr_cls = LogisticRegression(random_state = 0)\n",
        "lr_cls.fit(X_train,y_train)"
      ],
      "execution_count": null,
      "outputs": []
    },
    {
      "cell_type": "markdown",
      "metadata": {
        "id": "yyxW5b395mR2"
      },
      "source": [
        "## Predicting a new result"
      ]
    },
    {
      "cell_type": "code",
      "metadata": {
        "id": "s2JGOt4f7Ho-"
      },
      "source": [
        "print(lr_cls.predict(sc.transform([[30, 87000]])))"
      ],
      "execution_count": null,
      "outputs": []
    },
    {
      "cell_type": "markdown",
      "metadata": {
        "id": "vKYVQH-l5NpE"
      },
      "source": [
        "## Predicting the Test set results"
      ]
    },
    {
      "cell_type": "code",
      "metadata": {
        "scrolled": true,
        "id": "OGNiVOmd7Ho-"
      },
      "source": [
        "y_pred = lr_cls.predict(X_test)\n",
        "\n",
        "print(\"Prediction:\\n\",np.concatenate((y_pred.reshape(len(y_pred),1), y_test.reshape(len(y_test),1)), axis = 1))"
      ],
      "execution_count": null,
      "outputs": []
    },
    {
      "cell_type": "markdown",
      "metadata": {
        "id": "h4Hwj34ziWQW"
      },
      "source": [
        "## Making the Confusion Matrix"
      ]
    },
    {
      "cell_type": "code",
      "metadata": {
        "id": "yO4ynzSp7Ho_"
      },
      "source": [
        "from sklearn.metrics import confusion_matrix, accuracy_score\n",
        "\n",
        "print(\"Confusion matrix:\\n\",confusion_matrix(y_test,y_pred))"
      ],
      "execution_count": null,
      "outputs": []
    },
    {
      "cell_type": "code",
      "metadata": {
        "id": "4F9IuFiV7Ho_"
      },
      "source": [
        "print(\"Accuracy:\\n\",accuracy_score(y_test, y_pred))"
      ],
      "execution_count": null,
      "outputs": []
    },
    {
      "cell_type": "markdown",
      "metadata": {
        "id": "6OMC_P0diaoD"
      },
      "source": [
        "## Visualising the Training set results"
      ]
    },
    {
      "cell_type": "code",
      "metadata": {
        "id": "4ogn8UeB7Ho_"
      },
      "source": [
        "from matplotlib.colors import ListedColormap\n",
        "\n",
        "X_set, y_set = sc.inverse_transform(X_train), y_train\n",
        "X1, X2 = np.meshgrid(np.arange(start = X_set[:,0].min()-10, stop = X_set[:,0].max()+10, step = 0.25),\n",
        "                    np.arange(start = X_set[:,1].min()-1000, stop = X_set[:,1].max()+1000, step = 0.25))\n",
        "\n",
        "plt.contourf(X1,X2, lr_cls.predict(sc.transform(np.array([X1.ravel(), X2.ravel()]).T)).reshape(X1.shape), alpha = 0.75, cmap = ListedColormap(('red','green')))\n",
        "\n",
        "plt.xlim(X1.min(),X1.max())\n",
        "plt.ylim(X2.min(), X2.max())\n",
        "\n",
        "for i,j in enumerate(np.unique(y_set)):\n",
        "    plt.scatter(X_set[y_set == j,0], X_set[y_set == j,1], c = ListedColormap(('red','green'))(i), label = j)\n",
        "    \n",
        "plt.title('Logistic Regression (Training Set)')\n",
        "plt.xlabel('Age')\n",
        "plt.ylabel('Estimated Salary')\n",
        "plt.legend()\n",
        "plt.show()"
      ],
      "execution_count": null,
      "outputs": []
    },
    {
      "cell_type": "markdown",
      "metadata": {
        "id": "SZ-j28aPihZx"
      },
      "source": [
        "## Visualising the Test set results"
      ]
    },
    {
      "cell_type": "code",
      "metadata": {
        "id": "p3SX6xVo7Ho_"
      },
      "source": [
        "from matplotlib.colors import ListedColormap\n",
        "\n",
        "X_set, y_set = sc.inverse_transform(X_test), y_test\n",
        "X1, X2 = np.meshgrid(np.arange(start = X_set[:,0].min()-10, stop = X_set[:,0].max()+10, step = 0.25),\n",
        "                    np.arange(start = X_set[:,1].min()-1000, stop = X_set[:,1].max()+1000, step = 0.25))\n",
        "\n",
        "plt.contourf(X1,X2, lr_cls.predict(sc.transform(np.array([X1.ravel(), X2.ravel()]).T)).reshape(X1.shape), alpha = 0.75, cmap = ListedColormap(('red','green')))\n",
        "\n",
        "plt.xlim(X1.min(),X1.max())\n",
        "plt.ylim(X2.min(), X2.max())\n",
        "\n",
        "for i,j in enumerate(np.unique(y_set)):\n",
        "    plt.scatter(X_set[y_set == j,0], X_set[y_set == j,1], c = ListedColormap(('red','green'))(i), label = j)\n",
        "    \n",
        "plt.title('Logistic Regression (Testing Set)')\n",
        "plt.xlabel('Age')\n",
        "plt.ylabel('Estimated Salary')\n",
        "plt.legend()\n",
        "plt.show()"
      ],
      "execution_count": null,
      "outputs": []
    },
    {
      "cell_type": "markdown",
      "metadata": {
        "id": "t1O_ETE27Ho_"
      },
      "source": [
        "## AUROC Curve"
      ]
    },
    {
      "cell_type": "code",
      "metadata": {
        "id": "egLLO8Qf7HpA"
      },
      "source": [
        "prob_predict = lr_cls.predict_proba(X_test)\n",
        "prob_predict = prob_predict[:,1] #Taking probability of positive class\n",
        "fpr, tpr, threshold = roc_curve(y_test, prob_predict)\n",
        "auroc = auc(fpr,tpr)"
      ],
      "execution_count": null,
      "outputs": []
    },
    {
      "cell_type": "code",
      "metadata": {
        "id": "vr05v1-J7HpA"
      },
      "source": [
        "label = 'Logistic Regression Classifier AUC:' + ' {0:.2f}'.format(auroc)\n",
        "plt.plot([0,1], [0,1], 'r--')\n",
        "plt.plot(fpr, tpr, c = 'green', label = label)\n",
        "plt.title('Receiver Operating Characteristic')\n",
        "plt.xlabel('False Positive Rate')\n",
        "plt.ylabel('True Positive Rate')\n",
        "plt.legend()\n",
        "plt.show()"
      ],
      "execution_count": null,
      "outputs": []
    },
    {
      "cell_type": "markdown",
      "metadata": {
        "id": "B3UZy1OC7HpA"
      },
      "source": [
        "## CAP Curve"
      ]
    },
    {
      "cell_type": "code",
      "metadata": {
        "id": "l945fSSD7HpA"
      },
      "source": [
        "total = len(y_test)\n",
        "#100\n",
        "class_1_count = np.sum(y_test)\n",
        "#32\n",
        "class_0_count = total - class_1_count\n",
        "#68"
      ],
      "execution_count": null,
      "outputs": []
    },
    {
      "cell_type": "code",
      "metadata": {
        "id": "HKSKFCAx7HpA"
      },
      "source": [
        "#Random model\n",
        "plt.plot([0, total], [0, class_1_count], c = 'r', linestyle = '--', label = 'Random Model')\n",
        "#Perfect Model\n",
        "plt.plot([0, class_1_count, total], [0, class_1_count, class_1_count], c = 'grey', label = 'Perfect Model')\n",
        "#Trained Model\n",
        "probs = lr_cls.predict_proba(X_test)\n",
        "probs = probs[:, 1]\n",
        "model_y = [y for _, y in sorted(zip(probs, y_test), reverse = True)]\n",
        "y_values = np.append([0], np.cumsum(model_y))\n",
        "x_values = np.arange(0, total + 1)\n",
        "\n",
        "#CAP Curve\n",
        "plt.plot(x_values, y_values, c = 'b', label = 'Linear Regression Classifier')\n",
        "plt.title('Cumulative Accuracy Profile')\n",
        "plt.xlabel('Total observations')\n",
        "plt.ylabel('Class 1 observations')\n",
        "plt.legend(loc = 'lower right')"
      ],
      "execution_count": null,
      "outputs": []
    },
    {
      "cell_type": "code",
      "metadata": {
        "id": "lZwB-STI7HpA"
      },
      "source": [
        "# Area under Random Model\n",
        "a = auc([0, total], [0, class_1_count])\n",
        "\n",
        "# Area between Perfect and Random Model\n",
        "aP = auc([0, class_1_count, total], [0, class_1_count, class_1_count]) - a\n",
        "\n",
        "# Area between Trained and Random Model\n",
        "aR = auc(x_values, y_values) - a\n",
        "\n",
        "print(\"Accuracy Rate for Logistic Regression Classifier: {}\".format(aR / aP))\n",
        "## Accuracy Rate for Logistic Regression Classifier: 0.9080882352941176"
      ],
      "execution_count": null,
      "outputs": []
    },
    {
      "cell_type": "code",
      "metadata": {
        "id": "NDLs7PUB7HpB"
      },
      "source": [
        "plt.figure(figsize = (10,7))\n",
        "#Random model\n",
        "plt.plot([0, total], [0, class_1_count], c = 'r', linestyle = '--', label = 'Random Model')\n",
        "#Perfect Model\n",
        "plt.plot([0, class_1_count, total], [0, class_1_count, class_1_count], c = 'grey', label = 'Perfect Model')\n",
        "#Trained Model\n",
        "plt.plot(x_values, y_values, c = 'b', label = 'Linear Regression Classifier')\n",
        "\n",
        "# Point where vertical line will cut trained model\n",
        "index = int((50*total / 100))\n",
        "\n",
        "## 50% Verticcal line from x-axis\n",
        "plt.plot([index, index], [0, y_values[index]], c ='g', linestyle = '--')\n",
        "\n",
        "## Horizontal line to y-axis from prediction model\n",
        "plt.plot([0, index], [y_values[index], y_values[index]], c = 'g', linestyle = '--')\n",
        "\n",
        "plt.title('Cumulative Accuracy Profile')\n",
        "plt.xlabel('Total observations')\n",
        "plt.ylabel('Class 1 observations')\n",
        "plt.legend()\n",
        "plt.show()"
      ],
      "execution_count": null,
      "outputs": []
    },
    {
      "cell_type": "code",
      "metadata": {
        "id": "vhwXF-4n7HpB"
      },
      "source": [
        "class_1_observed = y_values[index] * 100 / max(y_values)\n",
        "print(class_1_observed)"
      ],
      "execution_count": null,
      "outputs": []
    }
  ]
}